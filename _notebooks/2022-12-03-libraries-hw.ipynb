{
 "cells": [
  {
   "attachments": {},
   "cell_type": "markdown",
   "metadata": {},
   "source": [
    "# Unit 3 Sections 14-15 Homework\n",
    "> Here are the insturctions for the homework for sections 14-15.\n",
    "\n",
    "- toc: true\n",
    "- comments: true\n",
    "- categories: [Week-13,Big-Idea-3]\n",
    "- image: /images/college-board-logo.png"
   ]
  },
  {
   "cell_type": "markdown",
   "metadata": {},
   "source": [
    "Create a program that asks the user for a day and then gives them a distance in days between that day and another random day in the year."
   ]
  },
  {
   "cell_type": "code",
   "execution_count": 2,
   "metadata": {},
   "outputs": [
    {
     "name": "stdout",
     "output_type": "stream",
     "text": [
      "Input a day\n",
      "13\n",
      "Input a month\n",
      "7\n",
      "Input a year\n",
      "2010\n",
      "user day: 07/13/2010\n",
      "random day: 09/11/2010\n",
      "The number of days between the given range of dates is: 60\n"
     ]
    }
   ],
   "source": []
  }
 ],
 "metadata": {
  "kernelspec": {
   "display_name": "Python 3.9.12 ('base')",
   "language": "python",
   "name": "python3"
  },
  "language_info": {
   "codemirror_mode": {
    "name": "ipython",
    "version": 3
   },
   "file_extension": ".py",
   "mimetype": "text/x-python",
   "name": "python",
   "nbconvert_exporter": "python",
   "pygments_lexer": "ipython3",
   "version": "3.9.12"
  },
  "orig_nbformat": 4,
  "vscode": {
   "interpreter": {
    "hash": "587533099b5009788de4a0593b95c08fb364312472080bddc5e3384b713a9fde"
   }
  }
 },
 "nbformat": 4,
 "nbformat_minor": 2
}
